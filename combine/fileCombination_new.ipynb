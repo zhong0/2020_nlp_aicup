{
 "cells": [
  {
   "cell_type": "code",
   "execution_count": 45,
   "metadata": {
    "executionInfo": {
     "elapsed": 1546,
     "status": "ok",
     "timestamp": 1608223075802,
     "user": {
      "displayName": "王中伶",
      "photoUrl": "",
      "userId": "14274878342632200202"
     },
     "user_tz": -480
    },
    "id": "oAKwsoo9eE-5"
   },
   "outputs": [
    {
     "name": "stdout",
     "output_type": "stream",
     "text": [
      "   article_id  start_position  end_position entity_text entity_type\n",
      "0          25             647           651        高雄大學   education\n",
      "1          25             652           655         法律系   education\n",
      "2          87              60            64        交通大學   education\n"
     ]
    }
   ],
   "source": [
    "import pandas as pd\n",
    "import numpy as np\n",
    "addedFile = pd.read_csv(\"2_4_bert_Simplified_education_1.tsv\", sep = '\\t')\n",
    "baseFile = pd.read_csv(\"merge2_1-3.tsv\", sep='\\t')\n",
    "\n",
    "def lenless1(row):\n",
    "    if len(row)==1:\n",
    "        return False\n",
    "    else:\n",
    "        return True\n",
    "addedFile['split'] = addedFile['entity_text'].apply(lenless1, 1)\n",
    "addedFile = addedFile[addedFile['split']]\n",
    "addedFile = addedFile[['article_id', 'start_position', 'end_position', 'entity_text', 'entity_type']]\n",
    "\n",
    "addedID = addedFile['article_id']\n",
    "addedSP, addedEP = addedFile['start_position'], addedFile['end_position']\n",
    "addedTxt = addedFile['entity_text']\n",
    "addedType = addedFile['entity_type']\n",
    "\n",
    "baseID = baseFile['article_id']\n",
    "baseSP, baseEP = baseFile['start_position'], baseFile['end_position']\n",
    "baseTxt = baseFile['entity_text']\n",
    "baseType = baseFile['entity_type']\n",
    "print(addedFile)"
   ]
  },
  {
   "cell_type": "code",
   "execution_count": 46,
   "metadata": {},
   "outputs": [],
   "source": [
    "deleteIndex = []\n",
    "count = 0\n",
    "\n",
    "for i in range(len(addedFile)):\n",
    "    for j in range(count, len(baseFile)):\n",
    "        if addedID[i] == baseID[j] and addedSP[i] == baseSP[j] and addedEP[i] == baseEP[j]:\n",
    "            deleteIndex.append(i)\n",
    "            count += 1\n",
    "            break;"
   ]
  },
  {
   "cell_type": "code",
   "execution_count": 47,
   "metadata": {},
   "outputs": [
    {
     "name": "stdout",
     "output_type": "stream",
     "text": [
      "Empty DataFrame\n",
      "Columns: [article_id, start_position, end_position, entity_text, entity_type]\n",
      "Index: []\n"
     ]
    }
   ],
   "source": [
    "filterFile = addedFile.drop(index = deleteIndex).copy()\n",
    "print(filterFile)"
   ]
  },
  {
   "cell_type": "code",
   "execution_count": 48,
   "metadata": {},
   "outputs": [],
   "source": [
    "deleteIndex = []\n",
    "count = 0\n",
    "for i in filterFile.index:\n",
    "    for j in range(count, len(baseFile)):\n",
    "        if addedSP[i] >= baseSP[j] and addedEP[i] <= baseEP[j] and addedSP[i] < baseEP[j]:\n",
    "            if addedTxt[i] in baseTxt[j]:\n",
    "                deleteIndex.append(i)\n",
    "                count += 1\n",
    "                break"
   ]
  },
  {
   "cell_type": "code",
   "execution_count": 49,
   "metadata": {},
   "outputs": [
    {
     "name": "stdout",
     "output_type": "stream",
     "text": [
      "[]\n"
     ]
    }
   ],
   "source": [
    "print(deleteIndex)"
   ]
  },
  {
   "cell_type": "code",
   "execution_count": 50,
   "metadata": {},
   "outputs": [
    {
     "name": "stdout",
     "output_type": "stream",
     "text": [
      "Empty DataFrame\n",
      "Columns: [article_id, start_position, end_position, entity_text, entity_type]\n",
      "Index: []\n"
     ]
    }
   ],
   "source": [
    "doubleFilterFile = filterFile.drop(index = deleteIndex).copy()\n",
    "print(doubleFilterFile)"
   ]
  },
  {
   "cell_type": "code",
   "execution_count": 51,
   "metadata": {},
   "outputs": [],
   "source": [
    "deleteIndex = []\n",
    "count = 0\n",
    "for i in doubleFilterFile.index:\n",
    "    for j in range(count, len(baseFile)):\n",
    "        if baseSP[j] >= addedSP[i] and baseEP[j] <= addedEP[i] and baseSP[j] < addedEP[i]:\n",
    "            if baseTxt[j] in addedTxt[i]:\n",
    "                deleteIndex.append(i)\n",
    "                count += 1\n",
    "                break"
   ]
  },
  {
   "cell_type": "code",
   "execution_count": 52,
   "metadata": {},
   "outputs": [
    {
     "name": "stdout",
     "output_type": "stream",
     "text": [
      "[]\n"
     ]
    }
   ],
   "source": [
    "print(deleteIndex)"
   ]
  },
  {
   "cell_type": "code",
   "execution_count": 53,
   "metadata": {},
   "outputs": [
    {
     "name": "stdout",
     "output_type": "stream",
     "text": [
      "Empty DataFrame\n",
      "Columns: [article_id, start_position, end_position, entity_text, entity_type]\n",
      "Index: []\n"
     ]
    }
   ],
   "source": [
    "tripleFilterFile = doubleFilterFile.drop(index = deleteIndex).copy()\n",
    "print(tripleFilterFile)"
   ]
  },
  {
   "cell_type": "code",
   "execution_count": 54,
   "metadata": {},
   "outputs": [
    {
     "name": "stdout",
     "output_type": "stream",
     "text": [
      "      article_id  start_position  end_position entity_text entity_type\n",
      "0              0             198           200          新樓    location\n",
      "1              0             227           229          麻豆    location\n",
      "2              0             237           239          麻豆    location\n",
      "3              0             295           297          今年        time\n",
      "4              1              31            33          今天        time\n",
      "...          ...             ...           ...         ...         ...\n",
      "3370         158            1082          1086        第三個月        time\n",
      "3371         158            1113          1116         下個月        time\n",
      "3372         158            1143          1145          今天        time\n",
      "3373         158            1199          1201          小安        name\n",
      "3374         158            1380          1390  A124699678          ID\n",
      "\n",
      "[3375 rows x 5 columns]\n"
     ]
    }
   ],
   "source": [
    "mergeFile = pd.concat([baseFile, tripleFilterFile])\n",
    "mergeFile = mergeFile.sort_values(['article_id','start_position'])\n",
    "mergeFile = mergeFile[['article_id', 'start_position', 'end_position', 'entity_text', 'entity_type']].reset_index(drop=True)\n",
    "print(mergeFile)"
   ]
  },
  {
   "cell_type": "code",
   "execution_count": 55,
   "metadata": {},
   "outputs": [],
   "source": [
    "# def lenless1(row):\n",
    "#     if len(row)==1:\n",
    "#         return False\n",
    "#     else:\n",
    "#         return True\n",
    "# mergeFile['split'] = mergeFile['entity_text'].apply(lenless1, 1)\n",
    "# mergeFile = mergeFile[mergeFile['split']]\n",
    "\n",
    "# mergeFile = mergeFile[['article_id', 'start_position', 'end_position', 'entity_text', 'entity_type']]"
   ]
  },
  {
   "cell_type": "code",
   "execution_count": 56,
   "metadata": {},
   "outputs": [
    {
     "data": {
      "text/html": [
       "<div>\n",
       "<style scoped>\n",
       "    .dataframe tbody tr th:only-of-type {\n",
       "        vertical-align: middle;\n",
       "    }\n",
       "\n",
       "    .dataframe tbody tr th {\n",
       "        vertical-align: top;\n",
       "    }\n",
       "\n",
       "    .dataframe thead th {\n",
       "        text-align: right;\n",
       "    }\n",
       "</style>\n",
       "<table border=\"1\" class=\"dataframe\">\n",
       "  <thead>\n",
       "    <tr style=\"text-align: right;\">\n",
       "      <th></th>\n",
       "      <th>article_id</th>\n",
       "      <th>start_position</th>\n",
       "      <th>end_position</th>\n",
       "      <th>entity_text</th>\n",
       "      <th>entity_type</th>\n",
       "    </tr>\n",
       "  </thead>\n",
       "  <tbody>\n",
       "    <tr>\n",
       "      <th>0</th>\n",
       "      <td>0</td>\n",
       "      <td>198</td>\n",
       "      <td>200</td>\n",
       "      <td>新樓</td>\n",
       "      <td>location</td>\n",
       "    </tr>\n",
       "    <tr>\n",
       "      <th>1</th>\n",
       "      <td>0</td>\n",
       "      <td>227</td>\n",
       "      <td>229</td>\n",
       "      <td>麻豆</td>\n",
       "      <td>location</td>\n",
       "    </tr>\n",
       "    <tr>\n",
       "      <th>2</th>\n",
       "      <td>0</td>\n",
       "      <td>237</td>\n",
       "      <td>239</td>\n",
       "      <td>麻豆</td>\n",
       "      <td>location</td>\n",
       "    </tr>\n",
       "    <tr>\n",
       "      <th>3</th>\n",
       "      <td>0</td>\n",
       "      <td>295</td>\n",
       "      <td>297</td>\n",
       "      <td>今年</td>\n",
       "      <td>time</td>\n",
       "    </tr>\n",
       "    <tr>\n",
       "      <th>4</th>\n",
       "      <td>1</td>\n",
       "      <td>31</td>\n",
       "      <td>33</td>\n",
       "      <td>今天</td>\n",
       "      <td>time</td>\n",
       "    </tr>\n",
       "    <tr>\n",
       "      <th>...</th>\n",
       "      <td>...</td>\n",
       "      <td>...</td>\n",
       "      <td>...</td>\n",
       "      <td>...</td>\n",
       "      <td>...</td>\n",
       "    </tr>\n",
       "    <tr>\n",
       "      <th>3370</th>\n",
       "      <td>158</td>\n",
       "      <td>1082</td>\n",
       "      <td>1086</td>\n",
       "      <td>第三個月</td>\n",
       "      <td>time</td>\n",
       "    </tr>\n",
       "    <tr>\n",
       "      <th>3371</th>\n",
       "      <td>158</td>\n",
       "      <td>1113</td>\n",
       "      <td>1116</td>\n",
       "      <td>下個月</td>\n",
       "      <td>time</td>\n",
       "    </tr>\n",
       "    <tr>\n",
       "      <th>3372</th>\n",
       "      <td>158</td>\n",
       "      <td>1143</td>\n",
       "      <td>1145</td>\n",
       "      <td>今天</td>\n",
       "      <td>time</td>\n",
       "    </tr>\n",
       "    <tr>\n",
       "      <th>3373</th>\n",
       "      <td>158</td>\n",
       "      <td>1199</td>\n",
       "      <td>1201</td>\n",
       "      <td>小安</td>\n",
       "      <td>name</td>\n",
       "    </tr>\n",
       "    <tr>\n",
       "      <th>3374</th>\n",
       "      <td>158</td>\n",
       "      <td>1380</td>\n",
       "      <td>1390</td>\n",
       "      <td>A124699678</td>\n",
       "      <td>ID</td>\n",
       "    </tr>\n",
       "  </tbody>\n",
       "</table>\n",
       "<p>3375 rows × 5 columns</p>\n",
       "</div>"
      ],
      "text/plain": [
       "      article_id  start_position  end_position entity_text entity_type\n",
       "0              0             198           200          新樓    location\n",
       "1              0             227           229          麻豆    location\n",
       "2              0             237           239          麻豆    location\n",
       "3              0             295           297          今年        time\n",
       "4              1              31            33          今天        time\n",
       "...          ...             ...           ...         ...         ...\n",
       "3370         158            1082          1086        第三個月        time\n",
       "3371         158            1113          1116         下個月        time\n",
       "3372         158            1143          1145          今天        time\n",
       "3373         158            1199          1201          小安        name\n",
       "3374         158            1380          1390  A124699678          ID\n",
       "\n",
       "[3375 rows x 5 columns]"
      ]
     },
     "execution_count": 56,
     "metadata": {},
     "output_type": "execute_result"
    }
   ],
   "source": [
    "def lenless1(row):\n",
    "    if row=='OK' or row=='我' or row=='ＰＲＯＴＥＩＮ' or row == '一百八十公':\n",
    "        return False\n",
    "    else:\n",
    "        return True\n",
    "mergeFile['split'] = mergeFile['entity_text'].apply(lenless1, 1)\n",
    "mergeFile = mergeFile[mergeFile['split']]\n",
    "mergeFile = mergeFile[['article_id', 'start_position', 'end_position', 'entity_text', 'entity_type']]\n",
    "mergeFile"
   ]
  },
  {
   "cell_type": "code",
   "execution_count": 57,
   "metadata": {},
   "outputs": [],
   "source": [
    "def lenless1(row):\n",
    "    if row in ['禮拜', '一萬三左', '百塊','眼前','HELL','UANG', 'ok', 'ＯＫ', 'Ok', '前二後二','國外原','0點','現在冬天', '2次','百七']:\n",
    "        return False\n",
    "    else:\n",
    "        return True\n",
    "mergeFile['split'] = mergeFile['entity_text'].apply(lenless1, 1)\n",
    "mergeFile = mergeFile[mergeFile['split']]\n",
    "mergeFile = mergeFile[['article_id', 'start_position', 'end_position', 'entity_text', 'entity_type']]"
   ]
  },
  {
   "cell_type": "code",
   "execution_count": 58,
   "metadata": {
    "scrolled": true
   },
   "outputs": [
    {
     "data": {
      "text/html": [
       "<div>\n",
       "<style scoped>\n",
       "    .dataframe tbody tr th:only-of-type {\n",
       "        vertical-align: middle;\n",
       "    }\n",
       "\n",
       "    .dataframe tbody tr th {\n",
       "        vertical-align: top;\n",
       "    }\n",
       "\n",
       "    .dataframe thead th {\n",
       "        text-align: right;\n",
       "    }\n",
       "</style>\n",
       "<table border=\"1\" class=\"dataframe\">\n",
       "  <thead>\n",
       "    <tr style=\"text-align: right;\">\n",
       "      <th></th>\n",
       "      <th>article_id</th>\n",
       "      <th>start_position</th>\n",
       "      <th>end_position</th>\n",
       "      <th>entity_text</th>\n",
       "      <th>entity_type</th>\n",
       "    </tr>\n",
       "  </thead>\n",
       "  <tbody>\n",
       "    <tr>\n",
       "      <th>0</th>\n",
       "      <td>0</td>\n",
       "      <td>198</td>\n",
       "      <td>200</td>\n",
       "      <td>新樓</td>\n",
       "      <td>location</td>\n",
       "    </tr>\n",
       "    <tr>\n",
       "      <th>1</th>\n",
       "      <td>0</td>\n",
       "      <td>227</td>\n",
       "      <td>229</td>\n",
       "      <td>麻豆</td>\n",
       "      <td>location</td>\n",
       "    </tr>\n",
       "    <tr>\n",
       "      <th>2</th>\n",
       "      <td>0</td>\n",
       "      <td>237</td>\n",
       "      <td>239</td>\n",
       "      <td>麻豆</td>\n",
       "      <td>location</td>\n",
       "    </tr>\n",
       "    <tr>\n",
       "      <th>3</th>\n",
       "      <td>0</td>\n",
       "      <td>295</td>\n",
       "      <td>297</td>\n",
       "      <td>今年</td>\n",
       "      <td>time</td>\n",
       "    </tr>\n",
       "    <tr>\n",
       "      <th>4</th>\n",
       "      <td>1</td>\n",
       "      <td>31</td>\n",
       "      <td>33</td>\n",
       "      <td>今天</td>\n",
       "      <td>time</td>\n",
       "    </tr>\n",
       "    <tr>\n",
       "      <th>...</th>\n",
       "      <td>...</td>\n",
       "      <td>...</td>\n",
       "      <td>...</td>\n",
       "      <td>...</td>\n",
       "      <td>...</td>\n",
       "    </tr>\n",
       "    <tr>\n",
       "      <th>3370</th>\n",
       "      <td>158</td>\n",
       "      <td>1082</td>\n",
       "      <td>1086</td>\n",
       "      <td>第三個月</td>\n",
       "      <td>time</td>\n",
       "    </tr>\n",
       "    <tr>\n",
       "      <th>3371</th>\n",
       "      <td>158</td>\n",
       "      <td>1113</td>\n",
       "      <td>1116</td>\n",
       "      <td>下個月</td>\n",
       "      <td>time</td>\n",
       "    </tr>\n",
       "    <tr>\n",
       "      <th>3372</th>\n",
       "      <td>158</td>\n",
       "      <td>1143</td>\n",
       "      <td>1145</td>\n",
       "      <td>今天</td>\n",
       "      <td>time</td>\n",
       "    </tr>\n",
       "    <tr>\n",
       "      <th>3373</th>\n",
       "      <td>158</td>\n",
       "      <td>1199</td>\n",
       "      <td>1201</td>\n",
       "      <td>小安</td>\n",
       "      <td>name</td>\n",
       "    </tr>\n",
       "    <tr>\n",
       "      <th>3374</th>\n",
       "      <td>158</td>\n",
       "      <td>1380</td>\n",
       "      <td>1390</td>\n",
       "      <td>A124699678</td>\n",
       "      <td>ID</td>\n",
       "    </tr>\n",
       "  </tbody>\n",
       "</table>\n",
       "<p>3375 rows × 5 columns</p>\n",
       "</div>"
      ],
      "text/plain": [
       "      article_id  start_position  end_position entity_text entity_type\n",
       "0              0             198           200          新樓    location\n",
       "1              0             227           229          麻豆    location\n",
       "2              0             237           239          麻豆    location\n",
       "3              0             295           297          今年        time\n",
       "4              1              31            33          今天        time\n",
       "...          ...             ...           ...         ...         ...\n",
       "3370         158            1082          1086        第三個月        time\n",
       "3371         158            1113          1116         下個月        time\n",
       "3372         158            1143          1145          今天        time\n",
       "3373         158            1199          1201          小安        name\n",
       "3374         158            1380          1390  A124699678          ID\n",
       "\n",
       "[3375 rows x 5 columns]"
      ]
     },
     "execution_count": 58,
     "metadata": {},
     "output_type": "execute_result"
    }
   ],
   "source": [
    "def lenless1(row):\n",
    "    if row in ['8點幾', '9點幾', '10點多','禮拜二早']:\n",
    "        return False\n",
    "    else:\n",
    "        return True\n",
    "mergeFile['split'] = mergeFile['entity_text'].apply(lenless1, 1)\n",
    "mergeFile = mergeFile[mergeFile['split']]\n",
    "mergeFile = mergeFile[['article_id', 'start_position', 'end_position', 'entity_text', 'entity_type']]\n",
    "mergeFile"
   ]
  },
  {
   "cell_type": "code",
   "execution_count": 59,
   "metadata": {},
   "outputs": [],
   "source": [
    "mergeFile.to_csv(\"merge2_all.tsv\", sep = '\\t', index = None, encoding = 'utf-8')"
   ]
  },
  {
   "cell_type": "markdown",
   "metadata": {},
   "source": [
    "以上。"
   ]
  },
  {
   "cell_type": "markdown",
   "metadata": {},
   "source": [
    "addition."
   ]
  },
  {
   "cell_type": "code",
   "execution_count": 108,
   "metadata": {
    "colab": {
     "base_uri": "https://localhost:8080/"
    },
    "collapsed": true,
    "executionInfo": {
     "elapsed": 1228,
     "status": "ok",
     "timestamp": 1608223077999,
     "user": {
      "displayName": "王中伶",
      "photoUrl": "",
      "userId": "14274878342632200202"
     },
     "user_tz": -480
    },
    "id": "DrOn-kOaeDEz",
    "outputId": "72bd97bf-0971-4edc-e03d-65d3c67a51a9",
    "scrolled": true
   },
   "outputs": [
    {
     "name": "stdout",
     "output_type": "stream",
     "text": [
      "       article_id  position entity_text entity_type\n",
      "0               0       198          新樓    location\n",
      "1               0       199          新樓    location\n",
      "2               0       200          新樓    location\n",
      "3               0       227          麻豆    location\n",
      "4               0       228          麻豆    location\n",
      "...           ...       ...         ...         ...\n",
      "15817         158      1389           8     contact\n",
      "15818         158      1390           8     contact\n",
      "15819         158      1489          明年        time\n",
      "15820         158      1490          明年        time\n",
      "15821         158      1491          明年        time\n",
      "\n",
      "[15822 rows x 4 columns]\n"
     ]
    }
   ],
   "source": [
    "newbaseID = []\n",
    "newbasePosition = []\n",
    "newbaseTxt = []\n",
    "newbaseType = []\n",
    "for i in range(len(baseID)):\n",
    "    for j in range(baseSP[i], baseEP[i]+1):\n",
    "        newbaseID.append(baseID[i])\n",
    "        newbasePosition.append(j)\n",
    "        newbaseTxt.append(baseTxt[i])\n",
    "        newbaseType.append(baseType[i])\n",
    "newbaseFile = pd.DataFrame({'article_id': newbaseID, 'position': newbasePosition, 'entity_text':newbaseTxt,'entity_type': newbaseType})\n",
    "print(newbaseFile)\n",
    "newbaseFile = newbaseFile.values.tolist()"
   ]
  },
  {
   "cell_type": "code",
   "execution_count": 109,
   "metadata": {
    "colab": {
     "base_uri": "https://localhost:8080/"
    },
    "executionInfo": {
     "elapsed": 1043,
     "status": "ok",
     "timestamp": 1608223080559,
     "user": {
      "displayName": "王中伶",
      "photoUrl": "",
      "userId": "14274878342632200202"
     },
     "user_tz": -480
    },
    "id": "YUcp3CeyezIX",
    "outputId": "925411f0-9ffe-4d13-cc29-3172e5d1c1a9"
   },
   "outputs": [
    {
     "name": "stdout",
     "output_type": "stream",
     "text": [
      "      article_id  position entity_text entity_type\n",
      "0              0         3          最近        time\n",
      "1              0         4          最近        time\n",
      "2              0         5          最近        time\n",
      "3              0        36          年底        time\n",
      "4              0        37          年底        time\n",
      "...          ...       ...         ...         ...\n",
      "8304         158      1354          今天        time\n",
      "8305         158      1355          今天        time\n",
      "8306         158      1489          明年        time\n",
      "8307         158      1490          明年        time\n",
      "8308         158      1491          明年        time\n",
      "\n",
      "[8309 rows x 4 columns]\n"
     ]
    }
   ],
   "source": [
    "newaddedID = []\n",
    "newaddedPosition = []\n",
    "newaddedTxt = []\n",
    "newaddedType = []\n",
    "for i in range(len(addedID)):\n",
    "    for j in range(addedSP[i], addedEP[i]+1):\n",
    "        newaddedID.append(addedID[i])\n",
    "        newaddedPosition.append(j)\n",
    "        newaddedTxt.append(addedTxt[i])\n",
    "        newaddedType.append(addedType[i])\n",
    "newaddedFile = pd.DataFrame({'article_id': newaddedID, 'position': newaddedPosition, 'entity_text': newaddedTxt,'entity_type': newaddedType})\n",
    "print(newaddedFile)\n",
    "newaddedFile = newaddedFile.values.tolist()"
   ]
  },
  {
   "cell_type": "code",
   "execution_count": 110,
   "metadata": {
    "colab": {
     "base_uri": "https://localhost:8080/"
    },
    "collapsed": true,
    "executionInfo": {
     "elapsed": 3678,
     "status": "ok",
     "timestamp": 1608223087489,
     "user": {
      "displayName": "王中伶",
      "photoUrl": "",
      "userId": "14274878342632200202"
     },
     "user_tz": -480
    },
    "id": "oyKDcWGLeDE0",
    "outputId": "105980eb-71f5-4fe8-8371-34ad27f6d2f2"
   },
   "outputs": [
    {
     "name": "stdout",
     "output_type": "stream",
     "text": [
      "5059\n"
     ]
    }
   ],
   "source": [
    "for j in newbaseFile:\n",
    "    if j in newaddedFile:\n",
    "        newaddedFile.remove(j)\n",
    "print(len(newaddedFile))"
   ]
  },
  {
   "cell_type": "code",
   "execution_count": 111,
   "metadata": {
    "colab": {
     "base_uri": "https://localhost:8080/"
    },
    "collapsed": true,
    "executionInfo": {
     "elapsed": 1168,
     "status": "ok",
     "timestamp": 1608223089868,
     "user": {
      "displayName": "王中伶",
      "photoUrl": "",
      "userId": "14274878342632200202"
     },
     "user_tz": -480
    },
    "id": "gVsWTBd7eDE0",
    "outputId": "1b771cd7-68e2-410c-edf3-9f15fe69b286"
   },
   "outputs": [
    {
     "name": "stdout",
     "output_type": "stream",
     "text": [
      "      article_id entity_text  start_position  end_position entity_type\n",
      "0              0          最近               3             5        time\n",
      "1              0          年底              36            38        time\n",
      "2              0          今天             113           115        time\n",
      "3              0          等下             255           257        time\n",
      "4              0          最近             275           277        time\n",
      "...          ...         ...             ...           ...         ...\n",
      "1190         157         一下午            3705          3708        time\n",
      "1191         157           一            3736          3737        time\n",
      "1192         157           禮            3753          3754        time\n",
      "1193         158          現在             510           512        time\n",
      "1194         158          今天            1353          1355        time\n",
      "\n",
      "[1195 rows x 5 columns]\n"
     ]
    }
   ],
   "source": [
    "filterData = pd.DataFrame(newaddedFile, columns=['article_id',  'position', 'entity_text', 'entity_type'])\n",
    "article_id = filterData['article_id']\n",
    "entity_text = filterData['entity_text']\n",
    "entity_type = filterData['entity_type']\n",
    "position = filterData['position']\n",
    "\n",
    "artID = []\n",
    "eText = []\n",
    "eType = []\n",
    "sPos = []\n",
    "ePos = []\n",
    "\n",
    "nowText = entity_text[0]\n",
    "artID.append(article_id[0])\n",
    "eText.append(entity_text[0])\n",
    "eType.append(entity_type[0])\n",
    "sPos.append(position[0])\n",
    "\n",
    "count = 0\n",
    "allCount = 0\n",
    "for i in range(1, len(filterData)):\n",
    "    if entity_text[i] == nowText:\n",
    "        count += 1\n",
    "    else:\n",
    "      nowText = entity_text[i]\n",
    "      artID.append(article_id[i])\n",
    "      eText.append(entity_text[i])\n",
    "      eType.append(entity_type[i])\n",
    "      sPos.append(position[i])\n",
    "      ePos.append(sPos[allCount] + len(entity_text[i-1]))\n",
    "      allCount += 1\n",
    "      count = 1\n",
    "ePos.append(sPos[allCount] + len(entity_text[i]))\n",
    "newfile = pd.DataFrame({'article_id': artID, 'entity_text': eText, 'start_position':sPos, 'end_position':ePos, 'entity_type': eType})\n",
    "print(newfile)"
   ]
  },
  {
   "cell_type": "code",
   "execution_count": 112,
   "metadata": {
    "colab": {
     "base_uri": "https://localhost:8080/"
    },
    "executionInfo": {
     "elapsed": 1182,
     "status": "ok",
     "timestamp": 1608223092971,
     "user": {
      "displayName": "王中伶",
      "photoUrl": "",
      "userId": "14274878342632200202"
     },
     "user_tz": -480
    },
    "id": "0k-gTTYAeDE1",
    "outputId": "f7233448-0fdf-4c7d-8529-d8fa39c4d14e",
    "scrolled": true
   },
   "outputs": [
    {
     "name": "stdout",
     "output_type": "stream",
     "text": [
      "      article_id  start_position  end_position entity_text entity_type\n",
      "0              0               3             5          最近        time\n",
      "1              0              36            38          年底        time\n",
      "2              0             113           115          今天        time\n",
      "3              0             198           200          新樓    location\n",
      "4              0             227           229          麻豆    location\n",
      "...          ...             ...           ...         ...         ...\n",
      "5082         158            1385          1386           9    med_exam\n",
      "5083         158            1387          1388           6          ID\n",
      "5084         158            1388          1390          78    med_exam\n",
      "5085         158            1389          1390           8     contact\n",
      "5086         158            1489          1491          明年        time\n",
      "\n",
      "[5087 rows x 5 columns]\n"
     ]
    }
   ],
   "source": [
    "mergeFile = pd.concat([baseFile, newfile])\n",
    "mergeFile = mergeFile.sort_values(['article_id','start_position'])\n",
    "mergeFile = mergeFile[['article_id', 'start_position', 'end_position', 'entity_text', 'entity_type']].reset_index(drop=True)\n",
    "print(mergeFile)\n",
    "mergeFile.to_csv(\"merge_all.tsv\", sep = '\\t', index = None, encoding = 'utf-8')"
   ]
  },
  {
   "cell_type": "code",
   "execution_count": 116,
   "metadata": {
    "collapsed": true,
    "executionInfo": {
     "elapsed": 4295,
     "status": "ok",
     "timestamp": 1608223720741,
     "user": {
      "displayName": "王中伶",
      "photoUrl": "",
      "userId": "14274878342632200202"
     },
     "user_tz": -480
    },
    "id": "pOghYsOBeDE2"
   },
   "outputs": [],
   "source": [
    "m_article_id = []\n",
    "m_start_position = []\n",
    "m_end_position = []\n",
    "m_entity_text = []\n",
    "m_entity_type = []\n",
    "\n",
    "for i in range(len(mergeFile)):\n",
    "  if len(mergeFile['entity_text'].iloc[i]) > 1:\n",
    "    m_article_id.append(mergeFile.iloc[i]['article_id'])\n",
    "    m_start_position.append(mergeFile.iloc[i]['start_position'])\n",
    "    m_end_position.append(mergeFile.iloc[i]['end_position'])\n",
    "    m_entity_text.append(mergeFile.iloc[i]['entity_text'])\n",
    "    m_entity_type.append(mergeFile.iloc[i]['entity_type'])\n",
    "\n",
    "cleanMergeFile = pd.DataFrame({'article_id': m_article_id, 'start_position': m_start_position, 'end_position': m_end_position, 'entity_text': m_entity_text, 'entity_type': m_entity_type})\n",
    "cleanMergeFile.to_csv(\"cleanMerge_all.tsv\", sep = '\\t', index = None, encoding = 'utf-8')"
   ]
  },
  {
   "cell_type": "code",
   "execution_count": null,
   "metadata": {
    "id": "Jq6OsqaAmnQQ"
   },
   "outputs": [],
   "source": []
  }
 ],
 "metadata": {
  "colab": {
   "name": "fileCombination.ipynb",
   "provenance": []
  },
  "kernelspec": {
   "display_name": "Python 3",
   "language": "python",
   "name": "python3"
  },
  "language_info": {
   "codemirror_mode": {
    "name": "ipython",
    "version": 3
   },
   "file_extension": ".py",
   "mimetype": "text/x-python",
   "name": "python",
   "nbconvert_exporter": "python",
   "pygments_lexer": "ipython3",
   "version": "3.7.9"
  }
 },
 "nbformat": 4,
 "nbformat_minor": 1
}
