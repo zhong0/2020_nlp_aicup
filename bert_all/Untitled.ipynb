{
 "cells": [
  {
   "cell_type": "code",
   "execution_count": 1,
   "metadata": {},
   "outputs": [],
   "source": [
    "import pandas as pd\n",
    "import re\n",
    "import json\n",
    "import os"
   ]
  },
  {
   "cell_type": "code",
   "execution_count": 2,
   "metadata": {},
   "outputs": [
    {
     "name": "stdout",
     "output_type": "stream",
     "text": [
      "done convers, label\n",
      "done dict_label\n",
      "done list_sentence_id\n"
     ]
    }
   ],
   "source": [
    "f = open('train_2.txt', 'r', encoding = 'utf-8')\n",
    "words = f.read()\n",
    "word_list = words.split('--------------------\\n\\n')\n",
    "\n",
    "my_map = {'name':'名字', 'location':'地點', 'time':'時間', 'contact':'聯絡方式', 'id':'編號', \n",
    "    'profession':'職業', 'biomarker':'個人生物標誌', 'family':'家庭成員', 'clinical_event':'有名的臨床事件',\n",
    "    'special_skills':'特殊專業或技能', 'unique_treatment':'獨家或聞名的治療方法', 'account':'帳號', \n",
    "    'organization':'所屬團體', 'education':'就學經歷或學歷', 'money':'金額', 'belonging_mark':'所屬品的特殊標誌',\n",
    "    'med_exam':'報告數值', 'others':'其他'}\n",
    "inv_map = {v: k for k, v in my_map.items()}\n",
    "\n",
    "\n",
    "\n",
    "def split_conser_label(input_list):\n",
    "    # input word_list\n",
    "    convers = []\n",
    "    label = []\n",
    "    for i in input_list:\n",
    "        j = i.split('\\n', 1)\n",
    "        if len(j[0]) > 0:\n",
    "            convers.append(j[0])\n",
    "        if len(j[1].split('\\n\\n')[0]):\n",
    "            label.append(j[1].split('\\n\\n')[0])\n",
    "    return convers, label\n",
    "\n",
    "\n",
    "def label_to_dict(input_label_list):\n",
    "    # input label\n",
    "    dict_label = {}\n",
    "    for i in range(len(input_label_list)):\n",
    "        total_label = input_label_list[i].split('\\n')\n",
    "        dict_label.update({i : dict()})\n",
    "        for j in range(len(total_label)-1):\n",
    "            each_row = total_label[j+1].split('\\t')\n",
    "            duration = (int(each_row[2]) - int(each_row[1]))\n",
    "            for q in range(duration):\n",
    "                # origin_label = each_row[4].lower()\n",
    "                # chinese_label = my_map[origin_label]\n",
    "                dict_label[i].update({int(each_row[1])+q : each_row[4]})\n",
    "    return dict_label\n",
    "\n",
    "\n",
    "\n",
    "\n",
    "def fit_ner_form(input_con, input_label_dict):\n",
    "    #input convers dict_label\n",
    "    list_sentence_id = []\n",
    "    list_words = []\n",
    "    list_labels = []\n",
    "\n",
    "    for i in range(len(input_con)):\n",
    "        now = input_con[i]\n",
    "        for j in range(len(now)):\n",
    "            if j in input_label_dict[i].keys():\n",
    "                list_sentence_id.append(i)\n",
    "                list_words.append(now[j])\n",
    "                list_labels.append(input_label_dict[i][j])\n",
    "            else:\n",
    "                list_sentence_id.append(i)\n",
    "                list_words.append(now[j])\n",
    "                list_labels.append('O')\n",
    "    return list_sentence_id, list_words, list_labels\n",
    "\n",
    "\n",
    "\n",
    "convers, label = split_conser_label(word_list)\n",
    "print('done convers, label')\n",
    "dict_label = label_to_dict(label)\n",
    "print('done dict_label')\n",
    "list_sentence_id, list_words, list_labels = fit_ner_form(convers, dict_label)\n",
    "print('done list_sentence_id')\n",
    "\n",
    "train_df = pd.DataFrame({'sentence_id':list_sentence_id, 'words':list_words, 'labels':list_labels})\n"
   ]
  },
  {
   "cell_type": "code",
   "execution_count": 3,
   "metadata": {},
   "outputs": [
    {
     "data": {
      "text/html": [
       "<div>\n",
       "<style scoped>\n",
       "    .dataframe tbody tr th:only-of-type {\n",
       "        vertical-align: middle;\n",
       "    }\n",
       "\n",
       "    .dataframe tbody tr th {\n",
       "        vertical-align: top;\n",
       "    }\n",
       "\n",
       "    .dataframe thead th {\n",
       "        text-align: right;\n",
       "    }\n",
       "</style>\n",
       "<table border=\"1\" class=\"dataframe\">\n",
       "  <thead>\n",
       "    <tr style=\"text-align: right;\">\n",
       "      <th></th>\n",
       "      <th>sentence_id</th>\n",
       "      <th>words</th>\n",
       "      <th>labels</th>\n",
       "    </tr>\n",
       "  </thead>\n",
       "  <tbody>\n",
       "    <tr>\n",
       "      <th>0</th>\n",
       "      <td>0</td>\n",
       "      <td>醫</td>\n",
       "      <td>O</td>\n",
       "    </tr>\n",
       "    <tr>\n",
       "      <th>1</th>\n",
       "      <td>0</td>\n",
       "      <td>師</td>\n",
       "      <td>O</td>\n",
       "    </tr>\n",
       "    <tr>\n",
       "      <th>2</th>\n",
       "      <td>0</td>\n",
       "      <td>：</td>\n",
       "      <td>O</td>\n",
       "    </tr>\n",
       "    <tr>\n",
       "      <th>3</th>\n",
       "      <td>0</td>\n",
       "      <td>啊</td>\n",
       "      <td>O</td>\n",
       "    </tr>\n",
       "    <tr>\n",
       "      <th>4</th>\n",
       "      <td>0</td>\n",
       "      <td>回</td>\n",
       "      <td>O</td>\n",
       "    </tr>\n",
       "  </tbody>\n",
       "</table>\n",
       "</div>"
      ],
      "text/plain": [
       "   sentence_id words labels\n",
       "0            0     醫      O\n",
       "1            0     師      O\n",
       "2            0     ：      O\n",
       "3            0     啊      O\n",
       "4            0     回      O"
      ]
     },
     "execution_count": 3,
     "metadata": {},
     "output_type": "execute_result"
    }
   ],
   "source": [
    "train_df.head()"
   ]
  },
  {
   "cell_type": "code",
   "execution_count": 4,
   "metadata": {},
   "outputs": [],
   "source": [
    "sent = []\n",
    "labels = []\n",
    "for i in list(set(train_df['sentence_id'].values)):\n",
    "    df = train_df[train_df['sentence_id']==i]\n",
    "    sent.append(''.join(df.words.values))\n",
    "    labels.append(list(df.labels.values))"
   ]
  },
  {
   "cell_type": "code",
   "execution_count": 5,
   "metadata": {},
   "outputs": [],
   "source": [
    "df_now = pd.DataFrame({'sentence':sent, 'label':labels})"
   ]
  },
  {
   "cell_type": "code",
   "execution_count": 6,
   "metadata": {
    "scrolled": true
   },
   "outputs": [],
   "source": [
    "def transfer_(row):\n",
    "    list_label = []\n",
    "    for i in range(len(row.sentence)):\n",
    "        list_label.append({row.sentence[i]:row.label[i]})\n",
    "    return list_label\n",
    "df_now['label'] = df_now.apply(transfer_, 1)"
   ]
  },
  {
   "cell_type": "code",
   "execution_count": 7,
   "metadata": {},
   "outputs": [
    {
     "data": {
      "text/plain": [
       "['今天', '今天', '今天']"
      ]
     },
     "execution_count": 7,
     "metadata": {},
     "output_type": "execute_result"
    }
   ],
   "source": [
    "re.findall('今天', df_now.iloc[0]['sentence'])"
   ]
  },
  {
   "cell_type": "code",
   "execution_count": 8,
   "metadata": {},
   "outputs": [],
   "source": [
    "df_now = df_now.reset_index()"
   ]
  },
  {
   "cell_type": "code",
   "execution_count": 9,
   "metadata": {},
   "outputs": [],
   "source": [
    "df_now.columns = ['sentence_id', 'words', 'predict']"
   ]
  },
  {
   "cell_type": "code",
   "execution_count": 10,
   "metadata": {},
   "outputs": [
    {
     "name": "stdout",
     "output_type": "stream",
     "text": [
      "200\n",
      "11872\n"
     ]
    }
   ],
   "source": [
    "df = df_now.copy()\n",
    "\n",
    "num = 0\n",
    "sentence_id = []\n",
    "words = []\n",
    "predictions = []\n",
    "\n",
    "for i in range(len(df)):\n",
    "    if i==0:\n",
    "        sentence_id.append(df.iloc[i]['sentence_id'])\n",
    "        words.append(df.iloc[i]['words'])\n",
    "        predictions.append(df.iloc[i]['predict'])\n",
    "    else:\n",
    "        if df.iloc[i]['sentence_id'] == sentence_id[num]:\n",
    "            words[num]+= ' '+ df.iloc[i]['words']\n",
    "                #print(words[num])\n",
    "                #print(predictions[num])\n",
    "            predictions[num].extend(df.iloc[i]['predict'])\n",
    "        else:\n",
    "            sentence_id.append(df.iloc[i]['sentence_id'])\n",
    "            words.append(df.iloc[i]['words'])\n",
    "            predictions.append(df.iloc[i]['predict'])\n",
    "            num+=1\n",
    "df = pd.DataFrame({'sentence_id':sentence_id, 'words':words, 'predictions':predictions})\n",
    "print(len(df))\n",
    "\n",
    "art_id = []\n",
    "order_ = []\n",
    "word_ = []\n",
    "label_ = []\n",
    "\n",
    "for i in range(len(df)):\n",
    "    now = df.iloc[i]['predictions']\n",
    "    for j in range(len(now)):\n",
    "        if 'O' not in now[j].values():\n",
    "            art_id.append(i)\n",
    "            order_.append(j)\n",
    "            for k, v in now[j].items():\n",
    "                word_.append(k)\n",
    "                label_.append(v)\n",
    "                #label_.append(v.split('-')[1])\n",
    "\n",
    "print(len(pd.DataFrame({'art_id':art_id, 'order_':order_, 'word_':word_, 'label_':label_})))\n",
    "\n",
    "\n",
    "total = len(art_id)\n",
    "i = 0\n",
    "j = 0\n",
    "\n",
    "article_id = []\n",
    "start_position = []\n",
    "end_position = []\n",
    "entity_text = []\n",
    "entity_type = []\n",
    "\n",
    "# 'art_id':art_id, 'order_':order_, 'word_':word_, 'label_':label_\n",
    "while i<total:\n",
    "    if i == 0:\n",
    "        article_id.append(art_id[i])\n",
    "        start_position.append(int(order_[i]))\n",
    "        end_position.append(int(order_[i])+1)\n",
    "        entity_text.append(word_[i])\n",
    "        entity_type.append(label_[i])\n",
    "        i+=1\n",
    "    else:\n",
    "        if article_id[j] == art_id[i] and end_position[j] == int(order_[i]) and entity_type[j] == label_[i]:\n",
    "            end_position[j] = int(order_[i])+1\n",
    "            entity_text[j] += word_[i]\n",
    "            i+=1\n",
    "        else:\n",
    "            article_id.append(art_id[i])\n",
    "            start_position.append(int(order_[i]))\n",
    "            end_position.append(int(order_[i])+1)\n",
    "            entity_text.append(word_[i])\n",
    "            entity_type.append(label_[i])\n",
    "            i+=1\n",
    "            j+=1\n",
    "df = pd.DataFrame({'article_id':article_id, 'start_position':start_position, 'end_position':end_position,\n",
    "                  'entity_text':entity_text, 'entity_type':entity_type})"
   ]
  },
  {
   "cell_type": "code",
   "execution_count": 12,
   "metadata": {},
   "outputs": [
    {
     "data": {
      "text/html": [
       "<div>\n",
       "<style scoped>\n",
       "    .dataframe tbody tr th:only-of-type {\n",
       "        vertical-align: middle;\n",
       "    }\n",
       "\n",
       "    .dataframe tbody tr th {\n",
       "        vertical-align: top;\n",
       "    }\n",
       "\n",
       "    .dataframe thead th {\n",
       "        text-align: right;\n",
       "    }\n",
       "</style>\n",
       "<table border=\"1\" class=\"dataframe\">\n",
       "  <thead>\n",
       "    <tr style=\"text-align: right;\">\n",
       "      <th></th>\n",
       "      <th>article_id</th>\n",
       "      <th>start_position</th>\n",
       "      <th>end_position</th>\n",
       "      <th>entity_text</th>\n",
       "      <th>entity_type</th>\n",
       "    </tr>\n",
       "  </thead>\n",
       "  <tbody>\n",
       "    <tr>\n",
       "      <th>157</th>\n",
       "      <td>9</td>\n",
       "      <td>1363</td>\n",
       "      <td>1366</td>\n",
       "      <td>星期三</td>\n",
       "      <td>time</td>\n",
       "    </tr>\n",
       "    <tr>\n",
       "      <th>158</th>\n",
       "      <td>9</td>\n",
       "      <td>1367</td>\n",
       "      <td>1370</td>\n",
       "      <td>星期三</td>\n",
       "      <td>time</td>\n",
       "    </tr>\n",
       "  </tbody>\n",
       "</table>\n",
       "</div>"
      ],
      "text/plain": [
       "     article_id  start_position  end_position entity_text entity_type\n",
       "157           9            1363          1366         星期三        time\n",
       "158           9            1367          1370         星期三        time"
      ]
     },
     "execution_count": 12,
     "metadata": {},
     "output_type": "execute_result"
    }
   ],
   "source": [
    "df[df['entity_text'].isin(['星期三'])]"
   ]
  },
  {
   "cell_type": "code",
   "execution_count": 16,
   "metadata": {},
   "outputs": [
    {
     "name": "stdout",
     "output_type": "stream",
     "text": [
      "星期三\n",
      "星期三\n",
      "每星期三四\n"
     ]
    }
   ],
   "source": [
    "\n",
    "for i in range(len(df)):\n",
    "    if '星期三' in df.entity_text.iloc[i]:\n",
    "        print(df.entity_text.iloc[i])"
   ]
  },
  {
   "cell_type": "code",
   "execution_count": 14,
   "metadata": {},
   "outputs": [
    {
     "data": {
      "text/plain": [
       "450"
      ]
     },
     "execution_count": 14,
     "metadata": {},
     "output_type": "execute_result"
    }
   ],
   "source": [
    "count_total_num = 0\n",
    "for i in range(len(df_now)):\n",
    "    count_total_num += len(re.findall('今天', df_now.iloc[i]['words']))\n",
    "count_total_num"
   ]
  },
  {
   "cell_type": "code",
   "execution_count": 35,
   "metadata": {},
   "outputs": [],
   "source": [
    "def find_out_aidea(word):\n",
    "    count_has_label = 0\n",
    "    count_total_num = 0\n",
    "    for i in range(len(df)):\n",
    "        if word in df.entity_text.iloc[i]:\n",
    "            count_has_label += 1\n",
    "    #count_has_label\n",
    "    \n",
    "    for i in range(len(df_now)):\n",
    "        count_total_num += len(re.findall(word, df_now.iloc[i]['words']))\n",
    "    return word, count_has_label, count_total_num\n",
    "\n",
    "word_amb = []\n",
    "has_label = []\n",
    "total_count = []\n",
    "\n",
    "for i in ['今天', '昨天', '明天', '後天', '前天', '早上', '中午', '晚上', '凌晨']:\n",
    "    a, b, c = find_out_aidea(i)\n",
    "    word_amb.append(a)\n",
    "    has_label.append(b)\n",
    "    total_count.append(c)\n",
    "\n",
    "df_final = pd.DataFrame({'word':word_amb, 'label_count':has_label, 'total_count':total_count})"
   ]
  },
  {
   "cell_type": "code",
   "execution_count": 42,
   "metadata": {},
   "outputs": [],
   "source": [
    "def percent(row):\n",
    "    return str(int(row.label_count/row.total_count*100))+'%'\n",
    "df_final['百分比'] = df_final.apply(percent, 1)"
   ]
  },
  {
   "cell_type": "code",
   "execution_count": 43,
   "metadata": {},
   "outputs": [
    {
     "data": {
      "text/html": [
       "<div>\n",
       "<style scoped>\n",
       "    .dataframe tbody tr th:only-of-type {\n",
       "        vertical-align: middle;\n",
       "    }\n",
       "\n",
       "    .dataframe tbody tr th {\n",
       "        vertical-align: top;\n",
       "    }\n",
       "\n",
       "    .dataframe thead th {\n",
       "        text-align: right;\n",
       "    }\n",
       "</style>\n",
       "<table border=\"1\" class=\"dataframe\">\n",
       "  <thead>\n",
       "    <tr style=\"text-align: right;\">\n",
       "      <th></th>\n",
       "      <th>word</th>\n",
       "      <th>label_count</th>\n",
       "      <th>total_count</th>\n",
       "      <th>百分比</th>\n",
       "    </tr>\n",
       "  </thead>\n",
       "  <tbody>\n",
       "    <tr>\n",
       "      <th>0</th>\n",
       "      <td>今天</td>\n",
       "      <td>171</td>\n",
       "      <td>450</td>\n",
       "      <td>38%</td>\n",
       "    </tr>\n",
       "    <tr>\n",
       "      <th>1</th>\n",
       "      <td>昨天</td>\n",
       "      <td>21</td>\n",
       "      <td>37</td>\n",
       "      <td>56%</td>\n",
       "    </tr>\n",
       "    <tr>\n",
       "      <th>2</th>\n",
       "      <td>明天</td>\n",
       "      <td>16</td>\n",
       "      <td>33</td>\n",
       "      <td>48%</td>\n",
       "    </tr>\n",
       "    <tr>\n",
       "      <th>3</th>\n",
       "      <td>後天</td>\n",
       "      <td>11</td>\n",
       "      <td>19</td>\n",
       "      <td>57%</td>\n",
       "    </tr>\n",
       "    <tr>\n",
       "      <th>4</th>\n",
       "      <td>前天</td>\n",
       "      <td>28</td>\n",
       "      <td>30</td>\n",
       "      <td>93%</td>\n",
       "    </tr>\n",
       "    <tr>\n",
       "      <th>5</th>\n",
       "      <td>早上</td>\n",
       "      <td>96</td>\n",
       "      <td>153</td>\n",
       "      <td>62%</td>\n",
       "    </tr>\n",
       "    <tr>\n",
       "      <th>6</th>\n",
       "      <td>中午</td>\n",
       "      <td>12</td>\n",
       "      <td>25</td>\n",
       "      <td>48%</td>\n",
       "    </tr>\n",
       "    <tr>\n",
       "      <th>7</th>\n",
       "      <td>晚上</td>\n",
       "      <td>27</td>\n",
       "      <td>105</td>\n",
       "      <td>25%</td>\n",
       "    </tr>\n",
       "    <tr>\n",
       "      <th>8</th>\n",
       "      <td>凌晨</td>\n",
       "      <td>1</td>\n",
       "      <td>1</td>\n",
       "      <td>100%</td>\n",
       "    </tr>\n",
       "  </tbody>\n",
       "</table>\n",
       "</div>"
      ],
      "text/plain": [
       "  word  label_count  total_count   百分比\n",
       "0   今天          171          450   38%\n",
       "1   昨天           21           37   56%\n",
       "2   明天           16           33   48%\n",
       "3   後天           11           19   57%\n",
       "4   前天           28           30   93%\n",
       "5   早上           96          153   62%\n",
       "6   中午           12           25   48%\n",
       "7   晚上           27          105   25%\n",
       "8   凌晨            1            1  100%"
      ]
     },
     "execution_count": 43,
     "metadata": {},
     "output_type": "execute_result"
    }
   ],
   "source": [
    "df_final"
   ]
  },
  {
   "cell_type": "code",
   "execution_count": null,
   "metadata": {},
   "outputs": [],
   "source": [
    "\n"
   ]
  }
 ],
 "metadata": {
  "kernelspec": {
   "display_name": "Python 3",
   "language": "python",
   "name": "python3"
  },
  "language_info": {
   "codemirror_mode": {
    "name": "ipython",
    "version": 3
   },
   "file_extension": ".py",
   "mimetype": "text/x-python",
   "name": "python",
   "nbconvert_exporter": "python",
   "pygments_lexer": "ipython3",
   "version": "3.7.9"
  }
 },
 "nbformat": 4,
 "nbformat_minor": 4
}
